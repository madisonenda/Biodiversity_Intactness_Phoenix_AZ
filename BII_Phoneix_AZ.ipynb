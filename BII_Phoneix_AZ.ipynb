{
 "cells": [
  {
   "cell_type": "markdown",
   "id": "0b9815b8-28a5-4b05-b895-c909be911d16",
   "metadata": {},
   "source": [
    "## Biodiversity Intactness Index for Phoneix, Arizona from 2017 to 2020\n",
    "\n",
    "Taking a brief look at changes in the biodiversity intactness index (BII) for Phoneinx, Arzona, by pulling desired data and items frokm a catalog"
   ]
  },
  {
   "cell_type": "code",
   "execution_count": 1,
   "id": "455b98e3-9065-4aff-9bee-0cc2bdeec0ea",
   "metadata": {
    "tags": []
   },
   "outputs": [],
   "source": [
    "import pandas as pd\n",
    "import planetary_computer\n",
    "import pystac_client\n",
    "import rich.table\n",
    "from geogif import gif"
   ]
  },
  {
   "cell_type": "code",
   "execution_count": 2,
   "id": "382bb928-56ac-47e7-a999-1cdc7d511714",
   "metadata": {
    "tags": []
   },
   "outputs": [],
   "source": [
    "catalog = pystac_client.Client.open(\n",
    "    \"https://planetarycomputer.microsoft.com/api/stac/v1\",\n",
    "    modifier=planetary_computer.sign_inplace,\n",
    ")"
   ]
  },
  {
   "cell_type": "code",
   "execution_count": 3,
   "id": "a87b0856-a786-4519-a134-69a25da25ed8",
   "metadata": {
    "tags": []
   },
   "outputs": [
    {
     "name": "stdout",
     "output_type": "stream",
     "text": [
      "<Item id=bii_2020_34.74464974521749_-115.38597824385106_cog>\n",
      "<Item id=bii_2019_34.74464974521749_-115.38597824385106_cog>\n",
      "<Item id=bii_2018_34.74464974521749_-115.38597824385106_cog>\n",
      "<Item id=bii_2017_34.74464974521749_-115.38597824385106_cog>\n"
     ]
    }
   ],
   "source": [
    "bbox_of_interest = [-112.826843, 32.974108, -111.184387, 33.863574]\n",
    "BII_Phoneix = catalog.search(collections=[\"io-biodiversity\"], bbox=bbox_of_interest)\n",
    "\n",
    "items = list(BII_Phoneix.items())\n",
    "for item in items:\n",
    "    print(item)"
   ]
  },
  {
   "cell_type": "markdown",
   "id": "3a3f3846-a5e0-4366-9db8-047dc17eecc9",
   "metadata": {},
   "source": [
    "Searching the catalog for "
   ]
  },
  {
   "cell_type": "code",
   "execution_count": null,
   "id": "212d7e5e-72e6-493f-ba03-b0e26acd7f93",
   "metadata": {},
   "outputs": [],
   "source": [
    "# Creating our bounding box to analyze the "
   ]
  },
  {
   "cell_type": "code",
   "execution_count": 4,
   "id": "1b6de110-b805-416f-bf18-e7420da4ffd6",
   "metadata": {},
   "outputs": [
    {
     "ename": "NameError",
     "evalue": "name 'bbox' is not defined",
     "output_type": "error",
     "traceback": [
      "\u001b[0;31m---------------------------------------------------------------------------\u001b[0m",
      "\u001b[0;31mNameError\u001b[0m                                 Traceback (most recent call last)",
      "Cell \u001b[0;32mIn[4], line 7\u001b[0m\n\u001b[1;32m      2\u001b[0m time_range \u001b[38;5;241m=\u001b[39m \u001b[38;5;124m\"\u001b[39m\u001b[38;5;124m2017-01-01/2020-01-01\u001b[39m\u001b[38;5;124m\"\u001b[39m\n\u001b[1;32m      4\u001b[0m \u001b[38;5;66;03m# Catalog search \u001b[39;00m\n\u001b[1;32m      5\u001b[0m search\u001b[38;5;241m=\u001b[39m catalog\u001b[38;5;241m.\u001b[39msearch(\n\u001b[1;32m      6\u001b[0m     collections\u001b[38;5;241m=\u001b[39m [\u001b[38;5;124m'\u001b[39m\u001b[38;5;124mio-biodiversity\u001b[39m\u001b[38;5;124m'\u001b[39m],\n\u001b[0;32m----> 7\u001b[0m     intersects\u001b[38;5;241m=\u001b[39m \u001b[43mbbox\u001b[49m,\n\u001b[1;32m      8\u001b[0m     datetime\u001b[38;5;241m=\u001b[39m time_range,\n\u001b[1;32m      9\u001b[0m )\n\u001b[1;32m     10\u001b[0m search\n",
      "\u001b[0;31mNameError\u001b[0m: name 'bbox' is not defined"
     ]
    }
   ],
   "source": [
    "# Temporal range of interest\n",
    "time_range = \"2017-01-01/2020-01-01\"\n",
    "\n",
    "# Catalog search \n",
    "search= catalog.search(\n",
    "    collections= ['io-biodiversity'],\n",
    "    intersects= bbox,\n",
    "    datetime= time_range,\n",
    ")\n",
    "search"
   ]
  },
  {
   "cell_type": "code",
   "execution_count": null,
   "id": "9ce2b27e-d3de-459f-9370-c73ae2845f61",
   "metadata": {},
   "outputs": [],
   "source": []
  }
 ],
 "metadata": {
  "kernelspec": {
   "display_name": "Anaconda 3 (EDS220)",
   "language": "python",
   "name": "eds220-env"
  },
  "language_info": {
   "codemirror_mode": {
    "name": "ipython",
    "version": 3
   },
   "file_extension": ".py",
   "mimetype": "text/x-python",
   "name": "python",
   "nbconvert_exporter": "python",
   "pygments_lexer": "ipython3",
   "version": "3.11.4"
  }
 },
 "nbformat": 4,
 "nbformat_minor": 5
}
